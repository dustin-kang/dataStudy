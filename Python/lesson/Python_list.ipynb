{
  "nbformat": 4,
  "nbformat_minor": 0,
  "metadata": {
    "colab": {
      "provenance": []
    },
    "kernelspec": {
      "name": "python3",
      "display_name": "Python 3"
    },
    "language_info": {
      "name": "python"
    }
  },
  "cells": [
    {
      "cell_type": "markdown",
      "source": [
        "# List\n",
        "- 시퀀스, 자료형, 여러 데이터들의 자료형"
      ],
      "metadata": {
        "id": "e1Gz4DlopdwH"
      }
    },
    {
      "cell_type": "markdown",
      "source": [
        "## 인덱싱 (indexing)\n",
        "`list`에 있는 값들의 주소를 사용해 값을 호출 할 수 있다."
      ],
      "metadata": {
        "id": "8FKLkX9Lp20O"
      }
    },
    {
      "cell_type": "code",
      "source": [
        "colors = ['red', 'blue', 'green']\n",
        "print(colors[0]) # red\n",
        "print(len(colors)) # 3"
      ],
      "metadata": {
        "colab": {
          "base_uri": "https://localhost:8080/"
        },
        "id": "F9hR-jfgp06h",
        "outputId": "ef8b415c-b7d6-4cde-8d2e-6cb6b0ad9b21"
      },
      "execution_count": 1,
      "outputs": [
        {
          "output_type": "stream",
          "name": "stdout",
          "text": [
            "red\n",
            "3\n"
          ]
        }
      ]
    },
    {
      "cell_type": "markdown",
      "source": [
        "## 슬라이싱 (Slicing)\n",
        "- list의 값들을 잘라서 주소 값을 기반으로 부분 값을 반환함.\n"
      ],
      "metadata": {
        "id": "bwBgVfmBqKN6"
      }
    },
    {
      "cell_type": "code",
      "source": [
        "cities = ['서울', '부산', '인천', '대구', '대전', '광주', '울산'] \n",
        "print(cities[0:6]) # 서울[0] 부터 광주[5]까지 \n",
        "print(cities[:]) # 처음부터 끝까지\n",
        "print(cities[-50:50]) # 범위가 넘어갈 경우 자동으로 최대 범위 지정\n",
        "print(cities[::2], cities[::-1]) # 2칸단위로, 역순으로 슬라이싱"
      ],
      "metadata": {
        "colab": {
          "base_uri": "https://localhost:8080/"
        },
        "id": "bUkQe4t2qFq4",
        "outputId": "828307d3-7f09-4098-fb53-7fdf96b834ea"
      },
      "execution_count": 6,
      "outputs": [
        {
          "output_type": "stream",
          "name": "stdout",
          "text": [
            "['서울', '부산', '인천', '대구', '대전', '광주']\n",
            "['서울', '부산', '인천', '대구', '대전', '광주', '울산']\n",
            "['서울', '부산', '인천', '대구', '대전', '광주', '울산']\n",
            "['서울', '인천', '대전', '울산'] ['울산', '광주', '대전', '대구', '인천', '부산', '서울']\n"
          ]
        }
      ]
    },
    {
      "cell_type": "markdown",
      "source": [
        "## 리스트 연산함수\n",
        "- `len()` : 리스트의 길이\n",
        "- `append(value)` : 값 추가\n",
        "- `extend([value, value2])` : 리스트 추가\n",
        "- `insert(index,)` : 중간 값 추가\n",
        "- `remove(value)` : 값 삭제\n",
        "- `del list[index]` : 객체 제거"
      ],
      "metadata": {
        "id": "JKH7fShjr-ye"
      }
    },
    {
      "cell_type": "code",
      "source": [
        "color = ['red', 'black', 'pink']\n",
        "color2 = ['blue', 'green', 'white']\n",
        "\n",
        "print(color + color2) # 두 리스트 합치기\n",
        "len(color + color2) # 두 리스트를 합친 길이\n",
        "print(len(color * 2))\n",
        "color[0] = 'yellow' # 0 번째 값 변경\n",
        "\n",
        "'pink' in color2 # False"
      ],
      "metadata": {
        "colab": {
          "base_uri": "https://localhost:8080/"
        },
        "id": "G-yayvNFqfah",
        "outputId": "8729e2fd-146e-46a5-da94-72ec4370f962"
      },
      "execution_count": 13,
      "outputs": [
        {
          "output_type": "stream",
          "name": "stdout",
          "text": [
            "['red', 'black', 'pink', 'blue', 'green', 'white']\n",
            "6\n"
          ]
        },
        {
          "output_type": "execute_result",
          "data": {
            "text/plain": [
              "False"
            ]
          },
          "metadata": {},
          "execution_count": 13
        }
      ]
    },
    {
      "cell_type": "code",
      "source": [
        "color.append('white')\n",
        "color.extend(color2)\n",
        "color.insert(0, 'orange')\n",
        "print(color)"
      ],
      "metadata": {
        "colab": {
          "base_uri": "https://localhost:8080/"
        },
        "id": "zz-zKPxVrcCV",
        "outputId": "26720350-bb5c-4d49-c9c8-cf20600a3afe"
      },
      "execution_count": 14,
      "outputs": [
        {
          "output_type": "stream",
          "name": "stdout",
          "text": [
            "['orange', 'yellow', 'black', 'pink', 'white', 'blue', 'green', 'white']\n"
          ]
        }
      ]
    },
    {
      "cell_type": "code",
      "source": [
        "color.remove('white') # 'white' 제거\n",
        "del color[1] # 'yellow' 제거\n",
        "print(color)"
      ],
      "metadata": {
        "colab": {
          "base_uri": "https://localhost:8080/"
        },
        "id": "jAZf9b_3srD6",
        "outputId": "1700af36-f5f8-404e-ccc5-b58121216977"
      },
      "execution_count": 15,
      "outputs": [
        {
          "output_type": "stream",
          "name": "stdout",
          "text": [
            "['orange', 'black', 'pink', 'blue', 'green', 'white']\n"
          ]
        }
      ]
    },
    {
      "cell_type": "markdown",
      "source": [
        "## 리스트 메모리 저장 방식"
      ],
      "metadata": {
        "id": "vEWRx4PCtICZ"
      }
    },
    {
      "cell_type": "code",
      "source": [
        "a = [5, 4, 3, 2, 1]\n",
        "b = [1, 2, 3, 4, 5]\n",
        "b = a # b라는 변수에 a를 넣는게 아니라 주소 값을 공유하는 것임\n",
        "a.sort()"
      ],
      "metadata": {
        "id": "5r5tSzO1tMze"
      },
      "execution_count": 17,
      "outputs": []
    },
    {
      "cell_type": "markdown",
      "source": [
        "## 패킹과 언패킹"
      ],
      "metadata": {
        "id": "W-Ava5H3thFE"
      }
    },
    {
      "cell_type": "code",
      "source": [
        "t = [1, 2, 3] # 패킹\n",
        "a, b, c = t # 언패킹\n",
        "print(t, a, b, c)"
      ],
      "metadata": {
        "colab": {
          "base_uri": "https://localhost:8080/"
        },
        "id": "swj8bjhjtjrg",
        "outputId": "40e33aad-6957-43fa-fca9-565d9906c213"
      },
      "execution_count": 18,
      "outputs": [
        {
          "output_type": "stream",
          "name": "stdout",
          "text": [
            "[1, 2, 3] 1 2 3\n"
          ]
        }
      ]
    },
    {
      "cell_type": "markdown",
      "source": [
        "## 이차원 리스트"
      ],
      "metadata": {
        "id": "LIw9eV1ftsgw"
      }
    },
    {
      "cell_type": "code",
      "source": [
        "kor_score = [49,79,20,100,80]\n",
        "math_score = [43,59,85,30, 90]\n",
        "eng_score = [49,79,48,60,100]\n",
        "midterm_score = [kor_score, math_score, eng_score]\n",
        "print (midterm_score[0][2])"
      ],
      "metadata": {
        "colab": {
          "base_uri": "https://localhost:8080/"
        },
        "id": "TIleJmQqtqO4",
        "outputId": "a53b5a1a-5281-4717-c3b8-ec96d8312b30"
      },
      "execution_count": 19,
      "outputs": [
        {
          "output_type": "stream",
          "name": "stdout",
          "text": [
            "20\n"
          ]
        }
      ]
    },
    {
      "cell_type": "code",
      "source": [],
      "metadata": {
        "id": "ChB_bVaQt6iw"
      },
      "execution_count": null,
      "outputs": []
    }
  ]
}