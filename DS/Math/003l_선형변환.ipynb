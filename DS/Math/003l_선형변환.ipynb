{
 "cells": [
  {
   "cell_type": "markdown",
   "id": "ec6d0eab",
   "metadata": {},
   "source": [
    "# Linear Transformation"
   ]
  },
  {
   "cell_type": "markdown",
   "id": "c59bce56",
   "metadata": {},
   "source": [
    "### Transformation 개념\n",
    "- Domain(정의역) : x, 함수의 입력값의 집합\n",
    "- Co-Domain(공역) : y, 함수의 출력값을 가질 수 있는 모든 값의 집합\n",
    "- Image(함수의 상): 입력이 주어졌을 때 출력값\n",
    "- Range(치약) : 실제로 y 값으로 쓰이는 값의 집합\n",
    "\n",
    "> 함수의 정의역과 치역은 일대일 대응 관계를 가지므로 **하나의 화살표**를 가리킨다."
   ]
  },
  {
   "cell_type": "markdown",
   "id": "8bb519bf",
   "metadata": {},
   "source": [
    "## 선형 변환(Linear Transformation)\n",
    "\n",
    "> - 정의역에서 원소 두개를 뽑아 선형결합이 나오는 함수(벡터) == 선형결합을 나중에 했을때의 함수 값 \n",
    "> - 위 공식이 만족하면 선형 변환이다.\n",
    "\n",
    "- n차원 공간의 벡터를 m차원이라는 다른 차원의 공간으로 변형하는 것을 말합니다.\n",
    "- 어떤 함수 또는 매핑이 선형이라면 아래 수식이 보장되어야 합니다.\n",
    "\n",
    "$$ T = R^n \\to R^m $$\n",
    "$$ T(a_1x_1 + a_2x_2 ) = a_1T(x_1) + a_2(x_2) $$\n",
    "\n"
   ]
  },
  {
   "cell_type": "markdown",
   "id": "8fdee003",
   "metadata": {},
   "source": [
    "> 3x+2는 선형 결합이 되는가?\n",
    "> 선형 결합이라고 하지 않는다. "
   ]
  }
 ],
 "metadata": {
  "kernelspec": {
   "display_name": "Python 3 (ipykernel)",
   "language": "python",
   "name": "python3"
  },
  "language_info": {
   "codemirror_mode": {
    "name": "ipython",
    "version": 3
   },
   "file_extension": ".py",
   "mimetype": "text/x-python",
   "name": "python",
   "nbconvert_exporter": "python",
   "pygments_lexer": "ipython3",
   "version": "3.9.7"
  }
 },
 "nbformat": 4,
 "nbformat_minor": 5
}
