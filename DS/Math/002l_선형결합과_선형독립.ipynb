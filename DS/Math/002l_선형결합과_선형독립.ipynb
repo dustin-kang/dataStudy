{
 "cells": [
  {
   "attachments": {},
   "cell_type": "markdown",
   "metadata": {},
   "source": [
    "# 선형결합 (Linear Combination)\n",
    "일차결합이라고도 합니다."
   ]
  },
  {
   "attachments": {},
   "cell_type": "markdown",
   "metadata": {},
   "source": [
    "### 선형결합\n",
    "벡터공간 $ V $에 속하는 벡터 $v_1,...,v_n$과 어떤 스칼라 $a_1 ... a_n$에 대해서  **각각 벡터들이 앞에 스칼라 배를 달고 있는 합**을 선형 결합된 상태다라고 합니다.\n",
    "\n",
    "$$ a_1v_1 + ... + a_nv_n $$\n",
    "> - 이러한 선형 결합은 실수만 다루고 0을 포함합니다.\n",
    "> - 만약 벡터가 3차원이라면 선형 결합도 3차원 벡터로 표현되는 것입니다.\n",
    "\n",
    "### 선형결합 이용\n",
    "행렬 방정식을 벡터 방정식으로 변경하여 나타낼 수 있습니다.\n",
    "\n",
    "- 행렬 방정식\n",
    "$$  \\begin{bmatrix} 60 & 5.5  & 1 \\\\ 65 & 5.0  & 0 \\\\ 55 & 6.0  & 1  \\end{bmatrix} \\begin{bmatrix} x_1 \\\\ x_2 \\\\ x_3  \\end{bmatrix} = \\begin{bmatrix} 66 \\\\ 74 \\\\ 78  \\end{bmatrix} $$\n",
    "\n",
    "- 벡터 방정식\n",
    "$$  \\begin{bmatrix} 60 \\\\ 65 \\\\ 55 \\end{bmatrix} x_1 + \\begin{bmatrix} 5.5 \\\\ 5.0 \\\\ 6.0 \\end{bmatrix} x_2 + \\begin{bmatrix} 1 \\\\ 0 \\\\ 1 \\end{bmatrix} x_3 = \\begin{bmatrix} 66 \\\\ 74 \\\\ 78 \\end{bmatrix} $$\n"
   ]
  },
  {
   "attachments": {},
   "cell_type": "markdown",
   "metadata": {},
   "source": [
    "## Span\n",
    "- 생성이라고 하는 Span은 주어진 백터들로 **선형결합**을 만들 수 있는 **모든 벡터들의 집합**을 의미합니다.\n",
    "- 벡터의 방정식을 통해 공간간적 개념을 얻을 수 있는데 그 중 하나가 `Span`입니다.\n",
    "\n",
    "$$ Span(v_1,v_2,v_3, .... v_n) $$\n",
    "\n",
    "> 2차원 벡터 $v_1$, $v_2$ 가 span을 하게되면 모든 2차원 벡터$(x,y)$를 만들 수 있습니다.\n",
    "\n",
    "### 기하학적으로 살펴본 Span \n",
    "아래 그림을 보면, $v_1$, $v_2$라는 2개의 벡터를 선형 결합하면 하나의 평면(Plane)으로 생성할 수 있습니다. \n",
    "> 📌 만약 공간이 3차원이고 벡터들이 2차원이라면 선형결합을 해도 해를 구할 수 없기 때문에 매핑할 수 없습니다. \n",
    "\n",
    "<img src=\"https://blog.kakaocdn.net/dn/csejpc/btq3RDPNAsq/u1CejZHrvzcU73Jor9j4OK/img.png\">"
   ]
  },
  {
   "attachments": {},
   "cell_type": "markdown",
   "metadata": {},
   "source": [
    "## 선형결합으로 행렬 곱연산\n",
    "> - 기존 행렬의 곱 연산 방식으로 연산을 진행하면 번거롭고 복잡합니다.\n",
    "> - 그래서 아래와 같이 벡터 방정식을 사용하여 계산하면 쉽게 생각할 수 있습니다.\n",
    "\n",
    "<img src=\"https://velog.velcdn.com/images/skkumin/post/123e7843-0a91-464e-878c-93e099c04552/image.png\" width=500>\n",
    "\n",
    "<img src=\"https://velog.velcdn.com/images/skkumin/post/5b4a75d6-0ec6-44ae-9449-cb942564b10a/image.png\" width=500>\n",
    "\n",
    "### 외적으로 행렬 곱연산\n",
    "- 좌변과 우변이 같다는 점이 중요합니다.\n",
    "- 좌변에서 우변으로 가면서 계산합니다. 추후에는 우변에서 좌변으로 가서 2개의 저차원 벡터로 표현할 수 있습니다.\n",
    "\n",
    "$$\\begin{bmatrix} 1&1 \\\\ 1&-1 \\\\ 1&1  \\end{bmatrix} \\begin{bmatrix} 1&2&3 \\\\ 4&5&6  \\end{bmatrix}$$\n",
    "$$\\begin{bmatrix} 1 \\\\ 1 \\\\ 1  \\end{bmatrix} \\begin{bmatrix} 1&2&3  \\end{bmatrix} = \\begin{bmatrix} 1&2&3 \\\\ 1&2&3 \\\\ 1&2&3  \\end{bmatrix}$$\n"
   ]
  },
  {
   "attachments": {},
   "cell_type": "markdown",
   "metadata": {},
   "source": [
    "---"
   ]
  },
  {
   "attachments": {},
   "cell_type": "markdown",
   "metadata": {},
   "source": [
    "# 선형 독립과 선형 종속(Linear Independence and Dependence)"
   ]
  },
  {
   "attachments": {},
   "cell_type": "markdown",
   "metadata": {},
   "source": [
    "> - 2개의 벡터로 Span 공간에 $b$ 벡터가 들어 있다면 두개의 벡터들의 가중치를 잘 찾아 정확한 해를 찾을 수 있었습니다. 평행사변형을 만드는 방법 처럼요.\n",
    "> - 그리고 해(Solution)이 여러개가 있다면 평행사변형 또한 여러 개 존재한다는 의미입니다.\n",
    "\n",
    "### 선형 독립\n",
    "- 어떤 벡터 $v_j$가 기존의 벡터들의 $Span$에 있다면 이는 **`선형 종속`** 이라고 합니다. 만약 그렇지 않으면 **`선형 독립`** 인 거죠.\n",
    "- $Ax = 0$이라는 방정식을 보면 이 식의 해는 0일 텐데 만약 이것이 유일한 해(Solution)이면  **`선형 독립`**, 또다른 non-trivial Solution을 갖는 다면 **`선형 종속`** 입니다.\n",
    "-  **`선형 독립`** 의 벡터의 갯수가 증가하면 Span 사이즈도 증가합니다. 하지만  **`선형 종속`** 은 벡터가 증가한다해도 Span 차원은 늘어나지 않습니다.\n",
    "\n",
    "$$ x_1v_1 + x_2v_2 + ... + x_pv_p = O, x = 0 (\\text{trivial Solution}) $$\n",
    "\n",
    "> 📌 3차원 공간에서 4개의 벡터가 주어진다면 선형종속입니다. 이유는 이미 3차원 공간 전체를 Span하고, 남은 1개의 벡터는 3개의 벡터로 표현할 수 있기 때문입니다.\n"
   ]
  },
  {
   "attachments": {},
   "cell_type": "markdown",
   "metadata": {},
   "source": [
    "### 선형 종속\n",
    "\n"
   ]
  },
  {
   "attachments": {},
   "cell_type": "markdown",
   "metadata": {},
   "source": [
    "||선형종속|선형독립|\n",
    "|:---:|:---:|:---:|\n",
    "|--|어떤 벡터가 Span에 포함한다.|어떤 벡터가 Span에 포함하지않는다.|\n",
    "|Solution|Nontrivial Solution(1개 이상)|Trivial Solution(0)|\n",
    "|Span size|Vector가 증가하면 SpanSize 그대로|Vector가 증가하면 SpanSize 증가|"
   ]
  },
  {
   "attachments": {},
   "cell_type": "markdown",
   "metadata": {},
   "source": [
    "# 부분공간의 기저와 차원 (Subspace, Basis, Dimension)"
   ]
  },
  {
   "attachments": {},
   "cell_type": "markdown",
   "metadata": {},
   "source": [
    "### 부분공간 (Subspace)\n",
    "\n",
    "$$ u_1, u_2 \\in H, cu_1 + du_2 \\in H $$\n",
    "\n",
    "- Span과 비슷하다 하지만 아래 조건을 추가합니다.\n",
    "- `선형결합에 닫혀있다.` : 부분 공간 안에서 선형결합으로 새로운 벡터를 만들어 낸다해도 다시 SubSpace 안 어떠한 벡터 일뿐이다."
   ]
  },
  {
   "attachments": {},
   "cell_type": "markdown",
   "metadata": {},
   "source": [
    "### 기저 (Basis)\n",
    "- 2가지 조건을 만족하는 부분공간(SubSpace)의 벡터들의 집합\n",
    "  1. 해당 벡터들의 Span은 부분공간 전체가 되어가 되어야한다. (부분공간 안에 Span들)\n",
    "  2. 기저(Bais)의 모든 벡터들은 **선형독립**이다.\n",
    "- 사실상 **기저를 구성하는 백터의 개수**는 **부분공간(SubSpace)의 차원의 수**와 같다.\n",
    "\n",
    "#### 열로 생성된 부분공간 (Col Space)\n",
    "- $\\text{Col } A$ : 행렬 $A$의 열로 생성(Span)된 부분공간\n",
    "\n",
    "$$ A = \\begin{bmatrix} 1&1 \\\\ 1&0 \\\\ 0&1 \\end{bmatrix} $$\n",
    "$$ \\text{Col }A = \\text{Span}\\begin{pmatrix} \\begin{bmatrix} 1 \\\\ 1 \\\\ 0 \\end{bmatrix}, \\begin{bmatrix} 1 \\\\ 0 \\\\ 1 \\end{bmatrix} \\end{pmatrix} $$\n",
    "$$ \\text{Col }A = 2 \\text{dim} $$\n",
    "\n",
    "### 계수 (Rank)\n",
    "- Col Space 의 차원을 의미합니다. (기저를 구성하는 벡터의 개수)\n"
   ]
  }
 ],
 "metadata": {
  "kernelspec": {
   "display_name": "Python 3",
   "language": "python",
   "name": "python3"
  },
  "language_info": {
   "codemirror_mode": {
    "name": "ipython",
    "version": 3
   },
   "file_extension": ".py",
   "mimetype": "text/x-python",
   "name": "python",
   "nbconvert_exporter": "python",
   "pygments_lexer": "ipython3",
   "version": "3.9.7"
  },
  "orig_nbformat": 4,
  "vscode": {
   "interpreter": {
    "hash": "aee8b7b246df8f9039afb4144a1f6fd8d2ca17a180786b69acc140d282b71a49"
   }
  }
 },
 "nbformat": 4,
 "nbformat_minor": 2
}
