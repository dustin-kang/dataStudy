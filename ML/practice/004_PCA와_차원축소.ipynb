{
 "cells": [
  {
   "cell_type": "markdown",
   "metadata": {},
   "source": [
    "# PCA 실습"
   ]
  },
  {
   "cell_type": "markdown",
   "metadata": {},
   "source": [
    "## 정규화를 통해 계산하는 방법"
   ]
  },
  {
   "cell_type": "markdown",
   "metadata": {},
   "source": [
    "### 1. 데이터 준비"
   ]
  },
  {
   "cell_type": "code",
   "execution_count": 24,
   "metadata": {},
   "outputs": [],
   "source": [
    "import numpy as np\n",
    "import pandas as pd\n",
    "\n",
    "X = np.array([ \n",
    "              [0.2, 5.6, 3.56], \n",
    "              [0.45, 5.89, 2.4],\n",
    "              [0.33, 6.37, 1.95],\n",
    "              [0.54, 7.9, 1.32],\n",
    "              [0.77, 7.87, 0.98]\n",
    "])"
   ]
  },
  {
   "cell_type": "markdown",
   "metadata": {},
   "source": [
    "### 2. 분산-공분산 매트릭스에 고유벡터와 고유값 계산\n",
    "1. 각 열에 대해 평균을 빼고, 표준편차로 나누어 정규화를 한다.\n",
    "2. $Z^{T}Z$를 통해 분산-공분산 매트릭스를 구한다.\n",
    "3. 고유벡터와 고유값을 계산한다."
   ]
  },
  {
   "cell_type": "code",
   "execution_count": 3,
   "metadata": {},
   "outputs": [
    {
     "name": "stdout",
     "output_type": "stream",
     "text": [
      "\n",
      " Standardized Data: \n",
      " [[-1.19298785 -1.0299848   1.5011907 ]\n",
      " [-0.03699187 -0.76471341  0.35403575]\n",
      " [-0.59186994 -0.32564351 -0.09098125]\n",
      " [ 0.37916668  1.07389179 -0.71400506]\n",
      " [ 1.44268298  1.04644992 -1.05024014]]\n",
      "\n",
      " Covariance Matrix: \n",
      " [[ 1.          0.84166641 -0.88401004]\n",
      " [ 0.84166641  1.         -0.91327498]\n",
      " [-0.88401004 -0.91327498  1.        ]]\n",
      "\n",
      " Eigenvalues: \n",
      " [2.75962684 0.1618075  0.07856566]\n",
      "\n",
      " Eigenvectors: \n",
      " [[ 0.56991376  0.77982119  0.25899269]\n",
      " [ 0.57650106 -0.60406359  0.55023059]\n",
      " [-0.58552953  0.16427443  0.7938319 ]]\n"
     ]
    }
   ],
   "source": [
    "# 1\n",
    "standardized_data = ( X - np.mean(X, axis = 0) ) / np.std(X, ddof = 1, axis = 0)\n",
    "print(\"\\n Standardized Data: \\n\", standardized_data)\n",
    "\n",
    "# 2\n",
    "covariance_matrix = np.cov(standardized_data.T)\n",
    "print(\"\\n Covariance Matrix: \\n\", covariance_matrix)\n",
    "\n",
    "# 3\n",
    "values, vectors = np.linalg.eig(covariance_matrix)\n",
    "print(\"\\n Eigenvalues: \\n\", values)\n",
    "print(\"\\n Eigenvectors: \\n\", vectors)"
   ]
  },
  {
   "cell_type": "markdown",
   "metadata": {},
   "source": [
    "### 3. 입력 데이터를 고유벡터에 Projection 시킨다.\n",
    "- `matmul()`메소드로 축에 프로젝션한다."
   ]
  },
  {
   "cell_type": "code",
   "execution_count": 4,
   "metadata": {},
   "outputs": [
    {
     "name": "stdout",
     "output_type": "stream",
     "text": [
      "\n",
      " Projected Data: \n",
      " [[-2.15267901 -0.06153364  0.31598878]\n",
      " [-0.66923865  0.4912475  -0.14930446]\n",
      " [-0.47177644 -0.27978923 -0.40469283]\n",
      " [ 1.25326312 -0.47030949  0.12228952]\n",
      " [ 2.04043099  0.32038486  0.11571899]]\n"
     ]
    }
   ],
   "source": [
    "Z = np.matmul(standardized_data, vectors)\n",
    "\n",
    "print(\"\\n Projected Data: \\n\", Z)"
   ]
  },
  {
   "cell_type": "markdown",
   "metadata": {},
   "source": [
    "## PCA 라이브러리를 사용하여 구현하기"
   ]
  },
  {
   "cell_type": "code",
   "execution_count": 6,
   "metadata": {},
   "outputs": [
    {
     "name": "stdout",
     "output_type": "stream",
     "text": [
      "Data: \n",
      " [[0.2  5.6  3.56]\n",
      " [0.45 5.89 2.4 ]\n",
      " [0.33 6.37 1.95]\n",
      " [0.54 7.9  1.32]\n",
      " [0.77 7.87 0.98]]\n",
      "\n",
      " Eigenvectors: \n",
      " [[-0.56991376 -0.57650106  0.58552953]\n",
      " [ 0.77982119 -0.60406359  0.16427443]]\n",
      "\n",
      " Eigenvalues: \n",
      " [3.44953356 0.20225937]\n",
      "\n",
      " Projected Data: \n",
      " [[ 2.4067683  -0.06879671]\n",
      " [ 0.74823156  0.5492314 ]\n",
      " [ 0.5274621  -0.31281387]\n",
      " [-1.40119076 -0.525822  ]\n",
      " [-2.2812712   0.35820117]]\n"
     ]
    }
   ],
   "source": [
    "from sklearn.preprocessing import StandardScaler, Normalizer\n",
    "from sklearn.decomposition import PCA\n",
    "\n",
    "# 1. 데이터를 가져온다.\n",
    "print(\"Data: \\n\", X)\n",
    "\n",
    "# 2. 정규화 라이브러리로 정규화를 진행한다.\n",
    "scaler = StandardScaler()\n",
    "Z = scaler.fit_transform(X)\n",
    "\n",
    "# 3. 주성분 분석\n",
    "pca = PCA(2) # 몇개의 pc를 쓸 것인지 정한다.\n",
    "pca.fit(Z)\n",
    "\n",
    "# 4. 고유값, 고유벡터 계산하기\n",
    "print(\"\\n Eigenvectors: \\n\", pca.components_)\n",
    "print(\"\\n Eigenvalues: \\n\",pca.explained_variance_)\n",
    "\n",
    "# 5. 정규화한 입력벡터를 고유벡터에 트랜잭션하기\n",
    "B = pca.transform(Z)\n",
    "print(\"\\n Projected Data: \\n\", B)"
   ]
  },
  {
   "cell_type": "markdown",
   "metadata": {},
   "source": [
    "> 🔍 정규화 결과가 다른 이유? <br>\n",
    "> `Standard Deviation`에 쓰이는 자유도가 1 혹은 0의 차이이다.\n",
    "> 자유도를 바꿔주면 동일한 값이 나온다."
   ]
  },
  {
   "cell_type": "markdown",
   "metadata": {},
   "source": [
    "# 💻 PCA 예제 실습"
   ]
  },
  {
   "cell_type": "markdown",
   "metadata": {},
   "source": [
    "## `Penguins dataset`을 이용하여 4개의 feature를 2차원으로 PCA 시행하는 작업\n",
    "\n",
    "- Dataset : http://seaborn.pydata.org/generated/seaborn.load_dataset.html#seaborn.load_dataset\n",
    "- Features : `culmen_length_mm`, `culmen_depth_mm`, `flipper_length_mm`, `body_mass_g` \n"
   ]
  },
  {
   "cell_type": "markdown",
   "metadata": {},
   "source": [
    "### 1. 데이터 준비하기"
   ]
  },
  {
   "cell_type": "code",
   "execution_count": 47,
   "metadata": {},
   "outputs": [
    {
     "data": {
      "text/html": [
       "<div>\n",
       "<style scoped>\n",
       "    .dataframe tbody tr th:only-of-type {\n",
       "        vertical-align: middle;\n",
       "    }\n",
       "\n",
       "    .dataframe tbody tr th {\n",
       "        vertical-align: top;\n",
       "    }\n",
       "\n",
       "    .dataframe thead th {\n",
       "        text-align: right;\n",
       "    }\n",
       "</style>\n",
       "<table border=\"1\" class=\"dataframe\">\n",
       "  <thead>\n",
       "    <tr style=\"text-align: right;\">\n",
       "      <th></th>\n",
       "      <th>species</th>\n",
       "      <th>bill_length_mm</th>\n",
       "      <th>bill_depth_mm</th>\n",
       "      <th>flipper_length_mm</th>\n",
       "      <th>body_mass_g</th>\n",
       "    </tr>\n",
       "  </thead>\n",
       "  <tbody>\n",
       "    <tr>\n",
       "      <th>0</th>\n",
       "      <td>Adelie</td>\n",
       "      <td>39.1</td>\n",
       "      <td>18.7</td>\n",
       "      <td>181.0</td>\n",
       "      <td>3750.0</td>\n",
       "    </tr>\n",
       "    <tr>\n",
       "      <th>1</th>\n",
       "      <td>Adelie</td>\n",
       "      <td>39.5</td>\n",
       "      <td>17.4</td>\n",
       "      <td>186.0</td>\n",
       "      <td>3800.0</td>\n",
       "    </tr>\n",
       "    <tr>\n",
       "      <th>2</th>\n",
       "      <td>Adelie</td>\n",
       "      <td>40.3</td>\n",
       "      <td>18.0</td>\n",
       "      <td>195.0</td>\n",
       "      <td>3250.0</td>\n",
       "    </tr>\n",
       "    <tr>\n",
       "      <th>3</th>\n",
       "      <td>Adelie</td>\n",
       "      <td>36.7</td>\n",
       "      <td>19.3</td>\n",
       "      <td>193.0</td>\n",
       "      <td>3450.0</td>\n",
       "    </tr>\n",
       "    <tr>\n",
       "      <th>4</th>\n",
       "      <td>Adelie</td>\n",
       "      <td>39.3</td>\n",
       "      <td>20.6</td>\n",
       "      <td>190.0</td>\n",
       "      <td>3650.0</td>\n",
       "    </tr>\n",
       "    <tr>\n",
       "      <th>...</th>\n",
       "      <td>...</td>\n",
       "      <td>...</td>\n",
       "      <td>...</td>\n",
       "      <td>...</td>\n",
       "      <td>...</td>\n",
       "    </tr>\n",
       "    <tr>\n",
       "      <th>337</th>\n",
       "      <td>Gentoo</td>\n",
       "      <td>47.2</td>\n",
       "      <td>13.7</td>\n",
       "      <td>214.0</td>\n",
       "      <td>4925.0</td>\n",
       "    </tr>\n",
       "    <tr>\n",
       "      <th>338</th>\n",
       "      <td>Gentoo</td>\n",
       "      <td>46.8</td>\n",
       "      <td>14.3</td>\n",
       "      <td>215.0</td>\n",
       "      <td>4850.0</td>\n",
       "    </tr>\n",
       "    <tr>\n",
       "      <th>339</th>\n",
       "      <td>Gentoo</td>\n",
       "      <td>50.4</td>\n",
       "      <td>15.7</td>\n",
       "      <td>222.0</td>\n",
       "      <td>5750.0</td>\n",
       "    </tr>\n",
       "    <tr>\n",
       "      <th>340</th>\n",
       "      <td>Gentoo</td>\n",
       "      <td>45.2</td>\n",
       "      <td>14.8</td>\n",
       "      <td>212.0</td>\n",
       "      <td>5200.0</td>\n",
       "    </tr>\n",
       "    <tr>\n",
       "      <th>341</th>\n",
       "      <td>Gentoo</td>\n",
       "      <td>49.9</td>\n",
       "      <td>16.1</td>\n",
       "      <td>213.0</td>\n",
       "      <td>5400.0</td>\n",
       "    </tr>\n",
       "  </tbody>\n",
       "</table>\n",
       "<p>342 rows × 5 columns</p>\n",
       "</div>"
      ],
      "text/plain": [
       "    species  bill_length_mm  bill_depth_mm  flipper_length_mm  body_mass_g\n",
       "0    Adelie            39.1           18.7              181.0       3750.0\n",
       "1    Adelie            39.5           17.4              186.0       3800.0\n",
       "2    Adelie            40.3           18.0              195.0       3250.0\n",
       "3    Adelie            36.7           19.3              193.0       3450.0\n",
       "4    Adelie            39.3           20.6              190.0       3650.0\n",
       "..      ...             ...            ...                ...          ...\n",
       "337  Gentoo            47.2           13.7              214.0       4925.0\n",
       "338  Gentoo            46.8           14.3              215.0       4850.0\n",
       "339  Gentoo            50.4           15.7              222.0       5750.0\n",
       "340  Gentoo            45.2           14.8              212.0       5200.0\n",
       "341  Gentoo            49.9           16.1              213.0       5400.0\n",
       "\n",
       "[342 rows x 5 columns]"
      ]
     },
     "execution_count": 47,
     "metadata": {},
     "output_type": "execute_result"
    }
   ],
   "source": [
    "import seaborn as sns\n",
    "from sklearn.decomposition import PCA \n",
    "\n",
    "data = sns.load_dataset('penguins')\n",
    "data = data.loc[:, ('species', 'bill_length_mm', 'bill_depth_mm', 'flipper_length_mm', 'body_mass_g')] # 해당 열만 가져오기\n",
    "data = data.dropna() # 결측치 제거\n",
    "\n",
    "data = data.reset_index(drop=True)\n",
    "data"
   ]
  },
  {
   "cell_type": "code",
   "execution_count": 48,
   "metadata": {},
   "outputs": [],
   "source": [
    "features = ['bill_length_mm', 'bill_depth_mm', 'flipper_length_mm', 'body_mass_g']\n",
    "\n",
    "x = data.loc[:, features].values\n",
    "y = data.loc[:, 'species'].values\n"
   ]
  },
  {
   "cell_type": "markdown",
   "metadata": {},
   "source": [
    "### 2. 스케일링 표준화\n",
    "- 스케일에 영향을 받지 않기 위해 스케일링을 진행합니다."
   ]
  },
  {
   "cell_type": "code",
   "execution_count": 49,
   "metadata": {},
   "outputs": [
    {
     "data": {
      "text/plain": [
       "array([[-0.88449874,  0.78544923, -1.41834665, -0.56414208],\n",
       "       [-0.81112573,  0.1261879 , -1.06225022, -0.50170305],\n",
       "       [-0.66437972,  0.43046236, -0.42127665, -1.18853234],\n",
       "       ...,\n",
       "       [ 1.18828874, -0.73592307,  1.50164406,  1.93341896],\n",
       "       [ 0.23443963, -1.19233476,  0.7894512 ,  1.24658968],\n",
       "       [ 1.09657248, -0.53307343,  0.86067049,  1.49634578]])"
      ]
     },
     "execution_count": 49,
     "metadata": {},
     "output_type": "execute_result"
    }
   ],
   "source": [
    "from sklearn.preprocessing import StandardScaler\n",
    "\n",
    "x = StandardScaler().fit_transform(x)\n",
    "\n",
    "x"
   ]
  },
  {
   "cell_type": "markdown",
   "metadata": {},
   "source": [
    "### 3. PCA\n",
    "- 2차원 데이터로 차원 축소를 진행합니다.\n",
    "- 2차원 데이터와 Target(`data[['species']]`)를 합칩니다."
   ]
  },
  {
   "cell_type": "code",
   "execution_count": 50,
   "metadata": {},
   "outputs": [
    {
     "data": {
      "text/html": [
       "<div>\n",
       "<style scoped>\n",
       "    .dataframe tbody tr th:only-of-type {\n",
       "        vertical-align: middle;\n",
       "    }\n",
       "\n",
       "    .dataframe tbody tr th {\n",
       "        vertical-align: top;\n",
       "    }\n",
       "\n",
       "    .dataframe thead th {\n",
       "        text-align: right;\n",
       "    }\n",
       "</style>\n",
       "<table border=\"1\" class=\"dataframe\">\n",
       "  <thead>\n",
       "    <tr style=\"text-align: right;\">\n",
       "      <th></th>\n",
       "      <th>PC1</th>\n",
       "      <th>PC2</th>\n",
       "    </tr>\n",
       "  </thead>\n",
       "  <tbody>\n",
       "    <tr>\n",
       "      <th>0</th>\n",
       "      <td>-1.843445</td>\n",
       "      <td>0.047702</td>\n",
       "    </tr>\n",
       "    <tr>\n",
       "      <th>1</th>\n",
       "      <td>-1.306762</td>\n",
       "      <td>-0.428348</td>\n",
       "    </tr>\n",
       "    <tr>\n",
       "      <th>2</th>\n",
       "      <td>-1.369181</td>\n",
       "      <td>-0.154476</td>\n",
       "    </tr>\n",
       "    <tr>\n",
       "      <th>3</th>\n",
       "      <td>-1.878827</td>\n",
       "      <td>-0.002048</td>\n",
       "    </tr>\n",
       "    <tr>\n",
       "      <th>4</th>\n",
       "      <td>-1.911748</td>\n",
       "      <td>0.829210</td>\n",
       "    </tr>\n",
       "    <tr>\n",
       "      <th>...</th>\n",
       "      <td>...</td>\n",
       "      <td>...</td>\n",
       "    </tr>\n",
       "    <tr>\n",
       "      <th>337</th>\n",
       "      <td>2.006436</td>\n",
       "      <td>-0.958909</td>\n",
       "    </tr>\n",
       "    <tr>\n",
       "      <th>338</th>\n",
       "      <td>1.840886</td>\n",
       "      <td>-0.767714</td>\n",
       "    </tr>\n",
       "    <tr>\n",
       "      <th>339</th>\n",
       "      <td>2.760742</td>\n",
       "      <td>0.288886</td>\n",
       "    </tr>\n",
       "    <tr>\n",
       "      <th>340</th>\n",
       "      <td>1.722364</td>\n",
       "      <td>-0.704269</td>\n",
       "    </tr>\n",
       "    <tr>\n",
       "      <th>341</th>\n",
       "      <td>2.028902</td>\n",
       "      <td>0.357620</td>\n",
       "    </tr>\n",
       "  </tbody>\n",
       "</table>\n",
       "<p>342 rows × 2 columns</p>\n",
       "</div>"
      ],
      "text/plain": [
       "          PC1       PC2\n",
       "0   -1.843445  0.047702\n",
       "1   -1.306762 -0.428348\n",
       "2   -1.369181 -0.154476\n",
       "3   -1.878827 -0.002048\n",
       "4   -1.911748  0.829210\n",
       "..        ...       ...\n",
       "337  2.006436 -0.958909\n",
       "338  1.840886 -0.767714\n",
       "339  2.760742  0.288886\n",
       "340  1.722364 -0.704269\n",
       "341  2.028902  0.357620\n",
       "\n",
       "[342 rows x 2 columns]"
      ]
     },
     "execution_count": 50,
     "metadata": {},
     "output_type": "execute_result"
    }
   ],
   "source": [
    "pca = PCA(n_components= 2)\n",
    "\n",
    "PCs = pca.fit_transform(x)\n",
    "\n",
    "data_PCA = pd.DataFrame(\n",
    "    data = PCs,\n",
    "    columns = ['PC1', 'PC2']\n",
    ")\n",
    "\n",
    "data_PCA"
   ]
  },
  {
   "cell_type": "code",
   "execution_count": 52,
   "metadata": {},
   "outputs": [
    {
     "data": {
      "text/html": [
       "<div>\n",
       "<style scoped>\n",
       "    .dataframe tbody tr th:only-of-type {\n",
       "        vertical-align: middle;\n",
       "    }\n",
       "\n",
       "    .dataframe tbody tr th {\n",
       "        vertical-align: top;\n",
       "    }\n",
       "\n",
       "    .dataframe thead th {\n",
       "        text-align: right;\n",
       "    }\n",
       "</style>\n",
       "<table border=\"1\" class=\"dataframe\">\n",
       "  <thead>\n",
       "    <tr style=\"text-align: right;\">\n",
       "      <th></th>\n",
       "      <th>PC1</th>\n",
       "      <th>PC2</th>\n",
       "      <th>species</th>\n",
       "    </tr>\n",
       "  </thead>\n",
       "  <tbody>\n",
       "    <tr>\n",
       "      <th>0</th>\n",
       "      <td>-1.843445</td>\n",
       "      <td>0.047702</td>\n",
       "      <td>Adelie</td>\n",
       "    </tr>\n",
       "    <tr>\n",
       "      <th>1</th>\n",
       "      <td>-1.306762</td>\n",
       "      <td>-0.428348</td>\n",
       "      <td>Adelie</td>\n",
       "    </tr>\n",
       "    <tr>\n",
       "      <th>2</th>\n",
       "      <td>-1.369181</td>\n",
       "      <td>-0.154476</td>\n",
       "      <td>Adelie</td>\n",
       "    </tr>\n",
       "    <tr>\n",
       "      <th>3</th>\n",
       "      <td>-1.878827</td>\n",
       "      <td>-0.002048</td>\n",
       "      <td>Adelie</td>\n",
       "    </tr>\n",
       "    <tr>\n",
       "      <th>4</th>\n",
       "      <td>-1.911748</td>\n",
       "      <td>0.829210</td>\n",
       "      <td>Adelie</td>\n",
       "    </tr>\n",
       "    <tr>\n",
       "      <th>...</th>\n",
       "      <td>...</td>\n",
       "      <td>...</td>\n",
       "      <td>...</td>\n",
       "    </tr>\n",
       "    <tr>\n",
       "      <th>337</th>\n",
       "      <td>2.006436</td>\n",
       "      <td>-0.958909</td>\n",
       "      <td>Gentoo</td>\n",
       "    </tr>\n",
       "    <tr>\n",
       "      <th>338</th>\n",
       "      <td>1.840886</td>\n",
       "      <td>-0.767714</td>\n",
       "      <td>Gentoo</td>\n",
       "    </tr>\n",
       "    <tr>\n",
       "      <th>339</th>\n",
       "      <td>2.760742</td>\n",
       "      <td>0.288886</td>\n",
       "      <td>Gentoo</td>\n",
       "    </tr>\n",
       "    <tr>\n",
       "      <th>340</th>\n",
       "      <td>1.722364</td>\n",
       "      <td>-0.704269</td>\n",
       "      <td>Gentoo</td>\n",
       "    </tr>\n",
       "    <tr>\n",
       "      <th>341</th>\n",
       "      <td>2.028902</td>\n",
       "      <td>0.357620</td>\n",
       "      <td>Gentoo</td>\n",
       "    </tr>\n",
       "  </tbody>\n",
       "</table>\n",
       "<p>342 rows × 3 columns</p>\n",
       "</div>"
      ],
      "text/plain": [
       "          PC1       PC2 species\n",
       "0   -1.843445  0.047702  Adelie\n",
       "1   -1.306762 -0.428348  Adelie\n",
       "2   -1.369181 -0.154476  Adelie\n",
       "3   -1.878827 -0.002048  Adelie\n",
       "4   -1.911748  0.829210  Adelie\n",
       "..        ...       ...     ...\n",
       "337  2.006436 -0.958909  Gentoo\n",
       "338  1.840886 -0.767714  Gentoo\n",
       "339  2.760742  0.288886  Gentoo\n",
       "340  1.722364 -0.704269  Gentoo\n",
       "341  2.028902  0.357620  Gentoo\n",
       "\n",
       "[342 rows x 3 columns]"
      ]
     },
     "execution_count": 52,
     "metadata": {},
     "output_type": "execute_result"
    }
   ],
   "source": [
    "Y = data[['species']].dropna() # Target\n",
    "data_PCA1 = pd.concat([data_PCA, Y], axis = 1)\n",
    "data_PCA1"
   ]
  },
  {
   "cell_type": "markdown",
   "metadata": {},
   "source": [
    "### 4. 시각화"
   ]
  },
  {
   "cell_type": "code",
   "execution_count": 54,
   "metadata": {},
   "outputs": [
    {
     "data": {
      "image/png": "[encoded data removed]",
      "text/plain": [
       "<Figure size 432x288 with 1 Axes>"
      ]
     },
     "metadata": {
      "needs_background": "light"
     },
     "output_type": "display_data"
    }
   ],
   "source": [
    "sns.scatterplot(data=data_PCA1,x='PC1',y='PC2',hue='species');"
   ]
  },
  {
   "cell_type": "code",
   "execution_count": 57,
   "metadata": {},
   "outputs": [
    {
     "name": "stdout",
     "output_type": "stream",
     "text": [
      "---eigen_value(고유값)---\n",
      " [30.68850359 16.25425267] \n",
      "\n",
      "---eigen_vector(고유벡터)--- \n",
      " [[ 0.45525033  0.59703114]\n",
      " [-0.40033468  0.79776657]\n",
      " [ 0.57601332  0.0022822 ]\n",
      " [ 0.54835019  0.08436292]] \n",
      "\n",
      "---표준편차 (SD)---\n",
      " [1.66187564 0.88021713] \n",
      "\n",
      "---분산비율 (Variance_ratio)--- \n",
      " [0.68843878 0.19312919] \n",
      "\n"
     ]
    }
   ],
   "source": [
    "print('---eigen_value(고유값)---\\n', pca.singular_values_, '\\n')\n",
    "print('---eigen_vector(고유벡터)--- \\n',pca.components_.T, '\\n')\n",
    "\n",
    "print('---표준편차 (SD)---\\n', np.sqrt(pca.explained_variance_), '\\n')\n",
    "print('---분산비율 (Variance_ratio)--- \\n',pca.explained_variance_ratio_, '\\n')"
   ]
  },
  {
   "cell_type": "markdown",
   "metadata": {},
   "source": [
    "### 5. Screeplot "
   ]
  },
  {
   "cell_type": "code",
   "execution_count": 63,
   "metadata": {},
   "outputs": [
    {
     "data": {
      "text/plain": [
       "Text(3.0, 85, '90%')"
      ]
     },
     "execution_count": 63,
     "metadata": {},
     "output_type": "execute_result"
    },
    {
     "data": {
      "image/png": "[encoded data removed]",
      "text/plain": [
       "<Figure size 432x288 with 1 Axes>"
      ]
     },
     "metadata": {
      "needs_background": "light"
     },
     "output_type": "display_data"
    }
   ],
   "source": [
    "import matplotlib.pyplot as plt\n",
    "\n",
    "plt.title('Screeplot')\n",
    "plt.xlabel('Number of PC[0/1/2/3]')\n",
    "plt.ylabel('Variance ratio')\n",
    "\n",
    "sumvals = np.cumsum(pca.explained_variance_ratio_)*100 # 누적 분산 비율\n",
    "\n",
    "plt.plot(pca.singular_values_, 'x-'); # 고유벡터\n",
    "plt.plot(sumvals, 'o-'); # 누적 분산 비율\n",
    "plt.hlines(90, xmin=-0.5, xmax=3.5); # 90% 선\n",
    "\n",
    "\n",
    "plt.annotate('<- eigen_values',xy=(0.5,30)) # 고유값 \n",
    "plt.annotate('<- cumsum variance ratio',xy=(0.5,70)) # 누적 분산 비율\n",
    "plt.annotate('90%',xy=(3.0,85)) # 90% "
   ]
  },
  {
   "cell_type": "code",
   "execution_count": 64,
   "metadata": {},
   "outputs": [
    {
     "data": {
      "text/plain": [
       "<matplotlib.collections.LineCollection at 0x7f913752a3a0>"
      ]
     },
     "execution_count": 64,
     "metadata": {},
     "output_type": "execute_result"
    },
    {
     "data": {
      "image/png": "[encoded data removed]",
      "text/plain": [
       "<Figure size 432x288 with 1 Axes>"
      ]
     },
     "metadata": {
      "needs_background": "light"
     },
     "output_type": "display_data"
    }
   ],
   "source": [
    "sumvals = np.cumsum(pca.explained_variance_ratio_) # 누적 분산 비율\n",
    "N0fPC = np.arange(len(pca.explained_variance_ratio_)) #PC 수\n",
    "vals = pca.explained_variance_ratio_ #분산\n",
    "\n",
    "plt.title('Screeplot')\n",
    "plt.xlabel('Number of PC')\n",
    "plt.ylabel('Cumulative Explained Variance')\n",
    "\n",
    "a = plt.bar(N0fPC, vals, color = ['#00da75', '#f1c40f',  '#ff6f15', '#3498db']) # bar\n",
    "\n",
    "# plt.plot(pca.singular_values_, 'x-'); \n",
    "plt.plot(N0fPC, sumvals, color = '#c0392b'); #line\n",
    "plt.hlines(0.9, xmin=-0.5, xmax=3.5) # 90% line"
   ]
  },
  {
   "cell_type": "code",
   "execution_count": null,
   "metadata": {},
   "outputs": [],
   "source": []
  }
 ],
 "metadata": {
  "kernelspec": {
   "display_name": "Python 3 (ipykernel)",
   "language": "python",
   "name": "python3"
  },
  "language_info": {
   "codemirror_mode": {
    "name": "ipython",
    "version": 3
   },
   "file_extension": ".py",
   "mimetype": "text/x-python",
   "name": "python",
   "nbconvert_exporter": "python",
   "pygments_lexer": "ipython3",
   "version": "3.9.7"
  },
  "vscode": {
   "interpreter": {
    "hash": "aee8b7b246df8f9039afb4144a1f6fd8d2ca17a180786b69acc140d282b71a49"
   }
  }
 },
 "nbformat": 4,
 "nbformat_minor": 2
}
