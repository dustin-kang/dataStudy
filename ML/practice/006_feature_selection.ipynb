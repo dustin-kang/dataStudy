{
 "cells": [
  {
   "cell_type": "markdown",
   "id": "fd46d6a6",
   "metadata": {},
   "source": [
    "# Filter Methods"
   ]
  },
  {
   "cell_type": "markdown",
   "id": "313f2aad",
   "metadata": {},
   "source": [
    "Breast Cancer Dataset를 이용하여 특성 선택 후 정확도를 비교합니다."
   ]
  },
  {
   "cell_type": "code",
   "execution_count": 13,
   "id": "82201cd3",
   "metadata": {},
   "outputs": [
    {
     "data": {
      "text/plain": [
       "(426, 30)"
      ]
     },
     "execution_count": 13,
     "metadata": {},
     "output_type": "execute_result"
    }
   ],
   "source": [
    "from sklearn.datasets import load_breast_cancer # 데이터 세트\n",
    "from sklearn.preprocessing import StandardScaler # 전처리 : 스케일러\n",
    "from sklearn.model_selection import train_test_split # 분할\n",
    "from sklearn.neighbors import KNeighborsClassifier # 모델\n",
    "from sklearn.metrics import accuracy_score # 평가\n",
    "\n",
    "cancer = load_breast_cancer() # 데이터 가져오기\n",
    "X_train, X_test, y_train, y_test = train_test_split(\n",
    "    cancer.data, cancer.target, stratify=cancer.target, random_state=66\n",
    ")\n",
    "\n",
    "scaler = StandardScaler() # 스케일링\n",
    "scaler.fit(X_train)\n",
    "\n",
    "X_train = scaler.transform(X_train)\n",
    "X_test = scaler.transform(X_test)\n",
    "X_train.shape"
   ]
  },
  {
   "cell_type": "code",
   "execution_count": 14,
   "id": "4718a63c",
   "metadata": {},
   "outputs": [
    {
     "data": {
      "text/plain": [
       "KNeighborsClassifier(n_neighbors=3)"
      ]
     },
     "execution_count": 14,
     "metadata": {},
     "output_type": "execute_result"
    }
   ],
   "source": [
    "# 모델 만들기\n",
    "clf = KNeighborsClassifier(n_neighbors=3)\n",
    "clf.fit(X_train, y_train)"
   ]
  },
  {
   "cell_type": "code",
   "execution_count": 15,
   "id": "cb6e3b1d",
   "metadata": {},
   "outputs": [
    {
     "name": "stdout",
     "output_type": "stream",
     "text": [
      "훈련 정확도 :  0.9882629107981221\n",
      "테스트 정확도 :  0.9440559440559441\n"
     ]
    }
   ],
   "source": [
    "y_train_hat = clf.predict(X_train)\n",
    "print(\"훈련 정확도 : \", accuracy_score(y_train, y_train_hat))\n",
    "y_test_hat = clf.predict(X_test)\n",
    "print(\"테스트 정확도 : \", accuracy_score(y_test,y_test_hat))"
   ]
  },
  {
   "cell_type": "markdown",
   "id": "6bf4d1dd",
   "metadata": {},
   "source": [
    "일변량 분석을 위해 `F-값`을 나타냅니다."
   ]
  },
  {
   "cell_type": "code",
   "execution_count": 16,
   "id": "5439623c",
   "metadata": {},
   "outputs": [
    {
     "data": {
      "text/plain": [
       "array([4.83462863e+02, 7.30185143e+01, 5.28179103e+02, 4.47936141e+02,\n",
       "       8.31684872e+01, 2.82587643e+02, 4.03951190e+02, 6.77339474e+02,\n",
       "       6.14526934e+01, 6.01858277e-01, 2.31866351e+02, 1.04667244e+00,\n",
       "       2.34005578e+02, 2.98127849e+02, 1.51979304e+00, 4.25157374e+01,\n",
       "       2.41668418e+01, 7.54074868e+01, 4.75614984e-03, 2.31919142e+00,\n",
       "       6.53070215e+02, 1.08039666e+02, 7.04457051e+02, 5.24963982e+02,\n",
       "       1.37073609e+02, 2.95079487e+02, 3.73197273e+02, 7.97341589e+02,\n",
       "       1.26635084e+02, 7.49205074e+01])"
      ]
     },
     "execution_count": 16,
     "metadata": {},
     "output_type": "execute_result"
    }
   ],
   "source": [
    "from sklearn.feature_selection import SelectKBest, f_classif\n",
    "select = SelectKBest(f_classif, k=20)\n",
    "select.fit(X_train, y_train)\n",
    "select.scores_"
   ]
  },
  {
   "cell_type": "code",
   "execution_count": 17,
   "id": "5822bc25",
   "metadata": {},
   "outputs": [
    {
     "data": {
      "text/plain": [
       "array([3.78863410e-01, 5.78605164e-02, 3.96182469e-01, 3.63430316e-01,\n",
       "       7.69746994e-02, 2.52575888e-01, 3.92934036e-01, 4.31602803e-01,\n",
       "       6.69654526e-02, 9.56310915e-03, 2.39691599e-01, 0.00000000e+00,\n",
       "       2.39577920e-01, 3.31316715e-01, 1.16813610e-04, 7.00022462e-02,\n",
       "       1.56576929e-01, 8.77306625e-02, 2.02226981e-02, 4.80665303e-02,\n",
       "       4.64394479e-01, 1.13355545e-01, 4.92123199e-01, 4.70964083e-01,\n",
       "       1.17586025e-01, 2.84393372e-01, 3.24732980e-01, 4.60988443e-01,\n",
       "       1.43285956e-01, 9.17416235e-02])"
      ]
     },
     "execution_count": 17,
     "metadata": {},
     "output_type": "execute_result"
    }
   ],
   "source": [
    "from sklearn.feature_selection import SelectKBest, mutual_info_classif\n",
    "select = SelectKBest(mutual_info_classif, k=20)\n",
    "select.fit(X_train, y_train)\n",
    "select.scores_"
   ]
  },
  {
   "cell_type": "code",
   "execution_count": 18,
   "id": "333a417a",
   "metadata": {},
   "outputs": [],
   "source": [
    "from sklearn.feature_selection import SelectKBest, f_classif\n",
    "select = SelectKBest(f_classif, k=20)\n",
    "select.fit(X_train, y_train)\n",
    "\n",
    "X_train_selected = select.transform(X_train)\n",
    "X_test_selected = select.transform(X_test)"
   ]
  },
  {
   "cell_type": "code",
   "execution_count": 19,
   "id": "acba8ff5",
   "metadata": {},
   "outputs": [
    {
     "data": {
      "text/plain": [
       "KNeighborsClassifier(n_neighbors=3)"
      ]
     },
     "execution_count": 19,
     "metadata": {},
     "output_type": "execute_result"
    }
   ],
   "source": [
    "# 모델 만들기\n",
    "clf = KNeighborsClassifier(n_neighbors=3)\n",
    "clf.fit(X_train_selected, y_train)"
   ]
  },
  {
   "cell_type": "code",
   "execution_count": 20,
   "id": "ad431277",
   "metadata": {},
   "outputs": [
    {
     "name": "stdout",
     "output_type": "stream",
     "text": [
      "훈련 정확도 :  0.9859154929577465\n",
      "테스트 정확도 :  0.958041958041958\n"
     ]
    }
   ],
   "source": [
    "y_train_hat = clf.predict(X_train_selected)\n",
    "print(\"훈련 정확도 : \", accuracy_score(y_train, y_train_hat))\n",
    "y_test_hat = clf.predict(X_test_selected)\n",
    "print(\"테스트 정확도 : \", accuracy_score(y_test,y_test_hat))"
   ]
  },
  {
   "cell_type": "markdown",
   "id": "d2ca637c",
   "metadata": {},
   "source": [
    "# SelectFromModel\n",
    "- `get_support()` : 어떤 특성이 선택되었는지 불린 값으로 나타냅니다."
   ]
  },
  {
   "cell_type": "code",
   "execution_count": 21,
   "id": "bcc504f2",
   "metadata": {
    "scrolled": true
   },
   "outputs": [
    {
     "data": {
      "text/plain": [
       "array([ True, False,  True,  True, False, False,  True,  True, False,\n",
       "       False, False, False, False, False, False, False, False, False,\n",
       "       False, False,  True, False,  True,  True, False, False, False,\n",
       "        True, False, False])"
      ]
     },
     "execution_count": 21,
     "metadata": {},
     "output_type": "execute_result"
    }
   ],
   "source": [
    "from sklearn.feature_selection import SelectFromModel\n",
    "from sklearn.ensemble import RandomForestClassifier\n",
    "fmodel = RandomForestClassifier()\n",
    "select = SelectFromModel(fmodel, threshold=\"mean\")\n",
    "select.fit(X_train, y_train)\n",
    "X_train_selected = select.transform(X_train)\n",
    "X_test_selected = select.transform(X_test)\n",
    "select.get_support()"
   ]
  },
  {
   "cell_type": "markdown",
   "id": "d7993e6b",
   "metadata": {},
   "source": [
    "- 중요도를 지정한 임계치보다 큰 모든 특성을 선택했습니다."
   ]
  },
  {
   "cell_type": "code",
   "execution_count": 23,
   "id": "a933e740",
   "metadata": {},
   "outputs": [
    {
     "data": {
      "text/plain": [
       "array([ True, False,  True,  True, False,  True,  True, False, False,\n",
       "       False,  True, False,  True, False,  True, False,  True, False,\n",
       "       False, False,  True, False,  True,  True, False, False, False,\n",
       "       False, False,  True])"
      ]
     },
     "execution_count": 23,
     "metadata": {},
     "output_type": "execute_result"
    }
   ],
   "source": [
    "from sklearn.feature_selection import SelectFromModel\n",
    "from sklearn.linear_model import LinearRegression\n",
    "fmodel = LinearRegression()\n",
    "select = SelectFromModel(fmodel, threshold=\"0.5*mean\")\n",
    "select.fit(X_train, y_train)\n",
    "X_train_selected = select.transform(X_train)\n",
    "X_test_selected = select.transform(X_test)\n",
    "select.get_support()"
   ]
  },
  {
   "cell_type": "code",
   "execution_count": 24,
   "id": "262c439d",
   "metadata": {},
   "outputs": [
    {
     "data": {
      "text/plain": [
       "array([0.02290933, 0.01109211, 0.07960371, 0.05586273, 0.00437963,\n",
       "       0.02049359, 0.05432639, 0.06645534, 0.00346024, 0.00263507,\n",
       "       0.00498712, 0.0037581 , 0.00863558, 0.03030707, 0.00212948,\n",
       "       0.00380491, 0.0113842 , 0.00243758, 0.00200863, 0.00488179,\n",
       "       0.1314674 , 0.01774142, 0.14040145, 0.07583133, 0.01444498,\n",
       "       0.01515403, 0.02748709, 0.1683061 , 0.00932534, 0.0042883 ])"
      ]
     },
     "execution_count": 24,
     "metadata": {},
     "output_type": "execute_result"
    }
   ],
   "source": [
    "from sklearn.feature_selection import SelectFromModel\n",
    "from sklearn.ensemble import RandomForestClassifier\n",
    "fmodel = RandomForestClassifier()\n",
    "fmodel.fit(X_train, y_train)\n",
    "fmodel.feature_importances_"
   ]
  },
  {
   "cell_type": "code",
   "execution_count": 26,
   "id": "bb8b608d",
   "metadata": {},
   "outputs": [
    {
     "data": {
      "text/plain": [
       "array([False, False,  True,  True, False, False,  True,  True, False,\n",
       "       False, False, False, False, False, False, False, False, False,\n",
       "       False, False,  True, False,  True,  True, False, False, False,\n",
       "        True, False, False])"
      ]
     },
     "execution_count": 26,
     "metadata": {},
     "output_type": "execute_result"
    }
   ],
   "source": [
    "select = SelectFromModel(fmodel, prefit=True, threshold=\"mean\")\n",
    "X_train_selected = select.transform(X_train)\n",
    "X_test_selected = select.transform(X_test)\n",
    "select.get_support()"
   ]
  },
  {
   "cell_type": "code",
   "execution_count": null,
   "id": "eeda8e7f",
   "metadata": {},
   "outputs": [],
   "source": []
  }
 ],
 "metadata": {
  "kernelspec": {
   "display_name": "Python 3 (ipykernel)",
   "language": "python",
   "name": "python3"
  },
  "language_info": {
   "codemirror_mode": {
    "name": "ipython",
    "version": 3
   },
   "file_extension": ".py",
   "mimetype": "text/x-python",
   "name": "python",
   "nbconvert_exporter": "python",
   "pygments_lexer": "ipython3",
   "version": "3.9.7"
  }
 },
 "nbformat": 4,
 "nbformat_minor": 5
}
